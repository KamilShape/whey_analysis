{
  "nbformat": 4,
  "nbformat_minor": 0,
  "metadata": {
    "colab": {
      "provenance": [],
      "authorship_tag": "ABX9TyMVRYTXog4vBDXeOL2/Tism",
      "include_colab_link": true
    },
    "kernelspec": {
      "name": "python3",
      "display_name": "Python 3"
    },
    "language_info": {
      "name": "python"
    }
  },
  "cells": [
    {
      "cell_type": "markdown",
      "metadata": {
        "id": "view-in-github",
        "colab_type": "text"
      },
      "source": [
        "<a href=\"https://colab.research.google.com/github/KamilShape/whey_analysis/blob/main/Whey_analysis.ipynb\" target=\"_parent\"><img src=\"https://colab.research.google.com/assets/colab-badge.svg\" alt=\"Open In Colab\"/></a>"
      ]
    },
    {
      "cell_type": "markdown",
      "source": [
        "#**1. Introduction**\n"
      ],
      "metadata": {
        "id": "sWS8BLMlWw3Z"
      }
    },
    {
      "cell_type": "code",
      "source": [
        "#Libraries import\n",
        "import pandas as pd\n",
        "import matplotlib.pyplot as plt\n",
        "import seaborn as sns\n",
        "from scipy import stats"
      ],
      "metadata": {
        "id": "1aWG35nrgcrl"
      },
      "execution_count": 27,
      "outputs": []
    },
    {
      "cell_type": "markdown",
      "source": [
        "# **2.Dataset analysis**"
      ],
      "metadata": {
        "id": "nA0_-b3VetJv"
      }
    },
    {
      "cell_type": "code",
      "source": [
        "#dataset load\n",
        "whey = pd.read_csv('/content/whey2.csv', encoding='latin1')"
      ],
      "metadata": {
        "id": "LqxpKofKlHX2"
      },
      "execution_count": 28,
      "outputs": []
    },
    {
      "cell_type": "code",
      "source": [
        "whey.info()"
      ],
      "metadata": {
        "colab": {
          "base_uri": "https://localhost:8080/"
        },
        "id": "WD02EEZ3lGLp",
        "outputId": "4621487a-f31c-4841-b39e-c8d1fc375e5a"
      },
      "execution_count": 29,
      "outputs": [
        {
          "output_type": "stream",
          "name": "stdout",
          "text": [
            "<class 'pandas.core.frame.DataFrame'>\n",
            "RangeIndex: 154 entries, 0 to 153\n",
            "Data columns (total 21 columns):\n",
            " #   Column         Non-Null Count  Dtype  \n",
            "---  ------         --------------  -----  \n",
            " 0   id             154 non-null    int64  \n",
            " 1   Name           154 non-null    object \n",
            " 2   Company        154 non-null    object \n",
            " 3   Brand          154 non-null    object \n",
            " 4   Package        154 non-null    float64\n",
            " 5   Package_type   154 non-null    object \n",
            " 6   Calories       154 non-null    float64\n",
            " 7   Fat            154 non-null    float64\n",
            " 8   Saturated_fat  154 non-null    float64\n",
            " 9   Carbs          154 non-null    float64\n",
            " 10  Sugar          154 non-null    float64\n",
            " 11  Protein        154 non-null    float64\n",
            " 12  WPC            154 non-null    float64\n",
            " 13  WPI            154 non-null    float64\n",
            " 14  Soy            154 non-null    float64\n",
            " 15  Yeast          154 non-null    float64\n",
            " 16  Pea            154 non-null    float64\n",
            " 17  Casein         154 non-null    float64\n",
            " 18  Cannabis       154 non-null    float64\n",
            " 19  Beef           154 non-null    float64\n",
            " 20  Price          154 non-null    float64\n",
            "dtypes: float64(16), int64(1), object(4)\n",
            "memory usage: 25.4+ KB\n"
          ]
        }
      ]
    },
    {
      "cell_type": "code",
      "source": [
        "whey = whey.drop('id', axis=1)"
      ],
      "metadata": {
        "id": "Agifgjtd36el"
      },
      "execution_count": 30,
      "outputs": []
    },
    {
      "cell_type": "code",
      "source": [
        "#price per 100g\n",
        "whey['Price/100'] = whey['Price']/whey['Package']*100"
      ],
      "metadata": {
        "id": "5rraW5TCmJLw"
      },
      "execution_count": 31,
      "outputs": []
    },
    {
      "cell_type": "code",
      "source": [
        "whey.head(10)"
      ],
      "metadata": {
        "colab": {
          "base_uri": "https://localhost:8080/",
          "height": 392
        },
        "id": "RJKfYqYamUsK",
        "outputId": "d1d34213-105d-4052-edef-45b3bb579d16"
      },
      "execution_count": 32,
      "outputs": [
        {
          "output_type": "execute_result",
          "data": {
            "text/plain": [
              "                        Name Company          Brand  Package Package_type  \\\n",
              "0      WPC PROTEIN PLUS 700g     SFD  SFD Nutrition    700.0          bag   \n",
              "1      WPC PROTEIN PLUS 700g     SFD  SFD Nutrition    700.0          bag   \n",
              "2      WPC PROTEIN PLUS 900g     SFD  SFD Nutrition    900.0          bag   \n",
              "3     WPC PROTEIN PLUS 2250g     SFD  SFD Nutrition   2250.0          bag   \n",
              "4     WPC PROTEIN PLUS 3000g     SFD  SFD Nutrition   3000.0          box   \n",
              "5     WPC PROTEIN ECONO 750G     SFD  SFD Nutrition    750.0          bag   \n",
              "6    WPC PROTEIN ECONO 2250G     SFD  SFD Nutrition   2250.0          bag   \n",
              "7   WPI ISOWHEY INSTANT 700g     SFD  SFD Nutrition    750.0          bag   \n",
              "8  WPI ISOWHEY INSTANT 1800g     SFD  SFD Nutrition   2250.0          bag   \n",
              "9          WHEY PROTEIN 300g     SFD   Allnutrition    300.0          bag   \n",
              "\n",
              "   Calories   Fat  Saturated_fat  Carbs  Sugar  ...   WPC    WPI  Soy  Yeast  \\\n",
              "0     394.0  6.00            4.2    6.9    4.4  ...  97.5   0.00  0.0    0.0   \n",
              "1     394.0  6.00            4.2    6.9    4.4  ...  97.5   0.00  0.0    0.0   \n",
              "2     394.0  6.00            4.2    6.9    4.4  ...  97.5   0.00  0.0    0.0   \n",
              "3     394.0  6.00            4.2    6.9    4.4  ...  97.5   0.00  0.0    0.0   \n",
              "4     394.0  6.00            4.2    6.9    4.4  ...  97.5   0.00  0.0    0.0   \n",
              "5     387.0  6.50            3.5   12.2    6.0  ...  87.5   0.00  0.0    0.0   \n",
              "6     387.0  6.50            3.5   12.2    6.0  ...  87.5   0.00  0.0    0.0   \n",
              "7     366.0  1.55            1.0    2.7    2.0  ...   0.0  80.24  0.0    0.0   \n",
              "8     366.0  1.55            1.0    2.7    2.0  ...   0.0  80.24  0.0    0.0   \n",
              "9     403.0  6.60            3.6   16.0    6.4  ...  87.5   0.00  0.0    0.0   \n",
              "\n",
              "   Pea  Casein  Cannabis  Beef   Price  Price/100  \n",
              "0  0.0     0.0       0.0   0.0   58.99   8.427143  \n",
              "1  0.0     0.0       0.0   0.0   58.99   8.427143  \n",
              "2  0.0     0.0       0.0   0.0   69.99   7.776667  \n",
              "3  0.0     0.0       0.0   0.0  154.99   6.888444  \n",
              "4  0.0     0.0       0.0   0.0  199.99   6.666333  \n",
              "5  0.0     0.0       0.0   0.0   44.99   5.998667  \n",
              "6  0.0     0.0       0.0   0.0  139.99   6.221778  \n",
              "7  0.0     0.0       0.0   0.0   71.99   9.598667  \n",
              "8  0.0     0.0       0.0   0.0  169.99   7.555111  \n",
              "9  0.0     0.0       0.0   0.0    4.99   1.663333  \n",
              "\n",
              "[10 rows x 21 columns]"
            ],
            "text/html": [
              "\n",
              "  <div id=\"df-f828f2d0-787d-4397-bb74-2a85153dd324\" class=\"colab-df-container\">\n",
              "    <div>\n",
              "<style scoped>\n",
              "    .dataframe tbody tr th:only-of-type {\n",
              "        vertical-align: middle;\n",
              "    }\n",
              "\n",
              "    .dataframe tbody tr th {\n",
              "        vertical-align: top;\n",
              "    }\n",
              "\n",
              "    .dataframe thead th {\n",
              "        text-align: right;\n",
              "    }\n",
              "</style>\n",
              "<table border=\"1\" class=\"dataframe\">\n",
              "  <thead>\n",
              "    <tr style=\"text-align: right;\">\n",
              "      <th></th>\n",
              "      <th>Name</th>\n",
              "      <th>Company</th>\n",
              "      <th>Brand</th>\n",
              "      <th>Package</th>\n",
              "      <th>Package_type</th>\n",
              "      <th>Calories</th>\n",
              "      <th>Fat</th>\n",
              "      <th>Saturated_fat</th>\n",
              "      <th>Carbs</th>\n",
              "      <th>Sugar</th>\n",
              "      <th>...</th>\n",
              "      <th>WPC</th>\n",
              "      <th>WPI</th>\n",
              "      <th>Soy</th>\n",
              "      <th>Yeast</th>\n",
              "      <th>Pea</th>\n",
              "      <th>Casein</th>\n",
              "      <th>Cannabis</th>\n",
              "      <th>Beef</th>\n",
              "      <th>Price</th>\n",
              "      <th>Price/100</th>\n",
              "    </tr>\n",
              "  </thead>\n",
              "  <tbody>\n",
              "    <tr>\n",
              "      <th>0</th>\n",
              "      <td>WPC PROTEIN PLUS 700g</td>\n",
              "      <td>SFD</td>\n",
              "      <td>SFD Nutrition</td>\n",
              "      <td>700.0</td>\n",
              "      <td>bag</td>\n",
              "      <td>394.0</td>\n",
              "      <td>6.00</td>\n",
              "      <td>4.2</td>\n",
              "      <td>6.9</td>\n",
              "      <td>4.4</td>\n",
              "      <td>...</td>\n",
              "      <td>97.5</td>\n",
              "      <td>0.00</td>\n",
              "      <td>0.0</td>\n",
              "      <td>0.0</td>\n",
              "      <td>0.0</td>\n",
              "      <td>0.0</td>\n",
              "      <td>0.0</td>\n",
              "      <td>0.0</td>\n",
              "      <td>58.99</td>\n",
              "      <td>8.427143</td>\n",
              "    </tr>\n",
              "    <tr>\n",
              "      <th>1</th>\n",
              "      <td>WPC PROTEIN PLUS 700g</td>\n",
              "      <td>SFD</td>\n",
              "      <td>SFD Nutrition</td>\n",
              "      <td>700.0</td>\n",
              "      <td>bag</td>\n",
              "      <td>394.0</td>\n",
              "      <td>6.00</td>\n",
              "      <td>4.2</td>\n",
              "      <td>6.9</td>\n",
              "      <td>4.4</td>\n",
              "      <td>...</td>\n",
              "      <td>97.5</td>\n",
              "      <td>0.00</td>\n",
              "      <td>0.0</td>\n",
              "      <td>0.0</td>\n",
              "      <td>0.0</td>\n",
              "      <td>0.0</td>\n",
              "      <td>0.0</td>\n",
              "      <td>0.0</td>\n",
              "      <td>58.99</td>\n",
              "      <td>8.427143</td>\n",
              "    </tr>\n",
              "    <tr>\n",
              "      <th>2</th>\n",
              "      <td>WPC PROTEIN PLUS 900g</td>\n",
              "      <td>SFD</td>\n",
              "      <td>SFD Nutrition</td>\n",
              "      <td>900.0</td>\n",
              "      <td>bag</td>\n",
              "      <td>394.0</td>\n",
              "      <td>6.00</td>\n",
              "      <td>4.2</td>\n",
              "      <td>6.9</td>\n",
              "      <td>4.4</td>\n",
              "      <td>...</td>\n",
              "      <td>97.5</td>\n",
              "      <td>0.00</td>\n",
              "      <td>0.0</td>\n",
              "      <td>0.0</td>\n",
              "      <td>0.0</td>\n",
              "      <td>0.0</td>\n",
              "      <td>0.0</td>\n",
              "      <td>0.0</td>\n",
              "      <td>69.99</td>\n",
              "      <td>7.776667</td>\n",
              "    </tr>\n",
              "    <tr>\n",
              "      <th>3</th>\n",
              "      <td>WPC PROTEIN PLUS 2250g</td>\n",
              "      <td>SFD</td>\n",
              "      <td>SFD Nutrition</td>\n",
              "      <td>2250.0</td>\n",
              "      <td>bag</td>\n",
              "      <td>394.0</td>\n",
              "      <td>6.00</td>\n",
              "      <td>4.2</td>\n",
              "      <td>6.9</td>\n",
              "      <td>4.4</td>\n",
              "      <td>...</td>\n",
              "      <td>97.5</td>\n",
              "      <td>0.00</td>\n",
              "      <td>0.0</td>\n",
              "      <td>0.0</td>\n",
              "      <td>0.0</td>\n",
              "      <td>0.0</td>\n",
              "      <td>0.0</td>\n",
              "      <td>0.0</td>\n",
              "      <td>154.99</td>\n",
              "      <td>6.888444</td>\n",
              "    </tr>\n",
              "    <tr>\n",
              "      <th>4</th>\n",
              "      <td>WPC PROTEIN PLUS 3000g</td>\n",
              "      <td>SFD</td>\n",
              "      <td>SFD Nutrition</td>\n",
              "      <td>3000.0</td>\n",
              "      <td>box</td>\n",
              "      <td>394.0</td>\n",
              "      <td>6.00</td>\n",
              "      <td>4.2</td>\n",
              "      <td>6.9</td>\n",
              "      <td>4.4</td>\n",
              "      <td>...</td>\n",
              "      <td>97.5</td>\n",
              "      <td>0.00</td>\n",
              "      <td>0.0</td>\n",
              "      <td>0.0</td>\n",
              "      <td>0.0</td>\n",
              "      <td>0.0</td>\n",
              "      <td>0.0</td>\n",
              "      <td>0.0</td>\n",
              "      <td>199.99</td>\n",
              "      <td>6.666333</td>\n",
              "    </tr>\n",
              "    <tr>\n",
              "      <th>5</th>\n",
              "      <td>WPC PROTEIN ECONO 750G</td>\n",
              "      <td>SFD</td>\n",
              "      <td>SFD Nutrition</td>\n",
              "      <td>750.0</td>\n",
              "      <td>bag</td>\n",
              "      <td>387.0</td>\n",
              "      <td>6.50</td>\n",
              "      <td>3.5</td>\n",
              "      <td>12.2</td>\n",
              "      <td>6.0</td>\n",
              "      <td>...</td>\n",
              "      <td>87.5</td>\n",
              "      <td>0.00</td>\n",
              "      <td>0.0</td>\n",
              "      <td>0.0</td>\n",
              "      <td>0.0</td>\n",
              "      <td>0.0</td>\n",
              "      <td>0.0</td>\n",
              "      <td>0.0</td>\n",
              "      <td>44.99</td>\n",
              "      <td>5.998667</td>\n",
              "    </tr>\n",
              "    <tr>\n",
              "      <th>6</th>\n",
              "      <td>WPC PROTEIN ECONO 2250G</td>\n",
              "      <td>SFD</td>\n",
              "      <td>SFD Nutrition</td>\n",
              "      <td>2250.0</td>\n",
              "      <td>bag</td>\n",
              "      <td>387.0</td>\n",
              "      <td>6.50</td>\n",
              "      <td>3.5</td>\n",
              "      <td>12.2</td>\n",
              "      <td>6.0</td>\n",
              "      <td>...</td>\n",
              "      <td>87.5</td>\n",
              "      <td>0.00</td>\n",
              "      <td>0.0</td>\n",
              "      <td>0.0</td>\n",
              "      <td>0.0</td>\n",
              "      <td>0.0</td>\n",
              "      <td>0.0</td>\n",
              "      <td>0.0</td>\n",
              "      <td>139.99</td>\n",
              "      <td>6.221778</td>\n",
              "    </tr>\n",
              "    <tr>\n",
              "      <th>7</th>\n",
              "      <td>WPI ISOWHEY INSTANT 700g</td>\n",
              "      <td>SFD</td>\n",
              "      <td>SFD Nutrition</td>\n",
              "      <td>750.0</td>\n",
              "      <td>bag</td>\n",
              "      <td>366.0</td>\n",
              "      <td>1.55</td>\n",
              "      <td>1.0</td>\n",
              "      <td>2.7</td>\n",
              "      <td>2.0</td>\n",
              "      <td>...</td>\n",
              "      <td>0.0</td>\n",
              "      <td>80.24</td>\n",
              "      <td>0.0</td>\n",
              "      <td>0.0</td>\n",
              "      <td>0.0</td>\n",
              "      <td>0.0</td>\n",
              "      <td>0.0</td>\n",
              "      <td>0.0</td>\n",
              "      <td>71.99</td>\n",
              "      <td>9.598667</td>\n",
              "    </tr>\n",
              "    <tr>\n",
              "      <th>8</th>\n",
              "      <td>WPI ISOWHEY INSTANT 1800g</td>\n",
              "      <td>SFD</td>\n",
              "      <td>SFD Nutrition</td>\n",
              "      <td>2250.0</td>\n",
              "      <td>bag</td>\n",
              "      <td>366.0</td>\n",
              "      <td>1.55</td>\n",
              "      <td>1.0</td>\n",
              "      <td>2.7</td>\n",
              "      <td>2.0</td>\n",
              "      <td>...</td>\n",
              "      <td>0.0</td>\n",
              "      <td>80.24</td>\n",
              "      <td>0.0</td>\n",
              "      <td>0.0</td>\n",
              "      <td>0.0</td>\n",
              "      <td>0.0</td>\n",
              "      <td>0.0</td>\n",
              "      <td>0.0</td>\n",
              "      <td>169.99</td>\n",
              "      <td>7.555111</td>\n",
              "    </tr>\n",
              "    <tr>\n",
              "      <th>9</th>\n",
              "      <td>WHEY PROTEIN 300g</td>\n",
              "      <td>SFD</td>\n",
              "      <td>Allnutrition</td>\n",
              "      <td>300.0</td>\n",
              "      <td>bag</td>\n",
              "      <td>403.0</td>\n",
              "      <td>6.60</td>\n",
              "      <td>3.6</td>\n",
              "      <td>16.0</td>\n",
              "      <td>6.4</td>\n",
              "      <td>...</td>\n",
              "      <td>87.5</td>\n",
              "      <td>0.00</td>\n",
              "      <td>0.0</td>\n",
              "      <td>0.0</td>\n",
              "      <td>0.0</td>\n",
              "      <td>0.0</td>\n",
              "      <td>0.0</td>\n",
              "      <td>0.0</td>\n",
              "      <td>4.99</td>\n",
              "      <td>1.663333</td>\n",
              "    </tr>\n",
              "  </tbody>\n",
              "</table>\n",
              "<p>10 rows × 21 columns</p>\n",
              "</div>\n",
              "    <div class=\"colab-df-buttons\">\n",
              "\n",
              "  <div class=\"colab-df-container\">\n",
              "    <button class=\"colab-df-convert\" onclick=\"convertToInteractive('df-f828f2d0-787d-4397-bb74-2a85153dd324')\"\n",
              "            title=\"Convert this dataframe to an interactive table.\"\n",
              "            style=\"display:none;\">\n",
              "\n",
              "  <svg xmlns=\"http://www.w3.org/2000/svg\" height=\"24px\" viewBox=\"0 -960 960 960\">\n",
              "    <path d=\"M120-120v-720h720v720H120Zm60-500h600v-160H180v160Zm220 220h160v-160H400v160Zm0 220h160v-160H400v160ZM180-400h160v-160H180v160Zm440 0h160v-160H620v160ZM180-180h160v-160H180v160Zm440 0h160v-160H620v160Z\"/>\n",
              "  </svg>\n",
              "    </button>\n",
              "\n",
              "  <style>\n",
              "    .colab-df-container {\n",
              "      display:flex;\n",
              "      gap: 12px;\n",
              "    }\n",
              "\n",
              "    .colab-df-convert {\n",
              "      background-color: #E8F0FE;\n",
              "      border: none;\n",
              "      border-radius: 50%;\n",
              "      cursor: pointer;\n",
              "      display: none;\n",
              "      fill: #1967D2;\n",
              "      height: 32px;\n",
              "      padding: 0 0 0 0;\n",
              "      width: 32px;\n",
              "    }\n",
              "\n",
              "    .colab-df-convert:hover {\n",
              "      background-color: #E2EBFA;\n",
              "      box-shadow: 0px 1px 2px rgba(60, 64, 67, 0.3), 0px 1px 3px 1px rgba(60, 64, 67, 0.15);\n",
              "      fill: #174EA6;\n",
              "    }\n",
              "\n",
              "    .colab-df-buttons div {\n",
              "      margin-bottom: 4px;\n",
              "    }\n",
              "\n",
              "    [theme=dark] .colab-df-convert {\n",
              "      background-color: #3B4455;\n",
              "      fill: #D2E3FC;\n",
              "    }\n",
              "\n",
              "    [theme=dark] .colab-df-convert:hover {\n",
              "      background-color: #434B5C;\n",
              "      box-shadow: 0px 1px 3px 1px rgba(0, 0, 0, 0.15);\n",
              "      filter: drop-shadow(0px 1px 2px rgba(0, 0, 0, 0.3));\n",
              "      fill: #FFFFFF;\n",
              "    }\n",
              "  </style>\n",
              "\n",
              "    <script>\n",
              "      const buttonEl =\n",
              "        document.querySelector('#df-f828f2d0-787d-4397-bb74-2a85153dd324 button.colab-df-convert');\n",
              "      buttonEl.style.display =\n",
              "        google.colab.kernel.accessAllowed ? 'block' : 'none';\n",
              "\n",
              "      async function convertToInteractive(key) {\n",
              "        const element = document.querySelector('#df-f828f2d0-787d-4397-bb74-2a85153dd324');\n",
              "        const dataTable =\n",
              "          await google.colab.kernel.invokeFunction('convertToInteractive',\n",
              "                                                    [key], {});\n",
              "        if (!dataTable) return;\n",
              "\n",
              "        const docLinkHtml = 'Like what you see? Visit the ' +\n",
              "          '<a target=\"_blank\" href=https://colab.research.google.com/notebooks/data_table.ipynb>data table notebook</a>'\n",
              "          + ' to learn more about interactive tables.';\n",
              "        element.innerHTML = '';\n",
              "        dataTable['output_type'] = 'display_data';\n",
              "        await google.colab.output.renderOutput(dataTable, element);\n",
              "        const docLink = document.createElement('div');\n",
              "        docLink.innerHTML = docLinkHtml;\n",
              "        element.appendChild(docLink);\n",
              "      }\n",
              "    </script>\n",
              "  </div>\n",
              "\n",
              "\n",
              "<div id=\"df-2c538cb0-4817-4170-9ac3-be440598e7d5\">\n",
              "  <button class=\"colab-df-quickchart\" onclick=\"quickchart('df-2c538cb0-4817-4170-9ac3-be440598e7d5')\"\n",
              "            title=\"Suggest charts.\"\n",
              "            style=\"display:none;\">\n",
              "\n",
              "<svg xmlns=\"http://www.w3.org/2000/svg\" height=\"24px\"viewBox=\"0 0 24 24\"\n",
              "     width=\"24px\">\n",
              "    <g>\n",
              "        <path d=\"M19 3H5c-1.1 0-2 .9-2 2v14c0 1.1.9 2 2 2h14c1.1 0 2-.9 2-2V5c0-1.1-.9-2-2-2zM9 17H7v-7h2v7zm4 0h-2V7h2v10zm4 0h-2v-4h2v4z\"/>\n",
              "    </g>\n",
              "</svg>\n",
              "  </button>\n",
              "\n",
              "<style>\n",
              "  .colab-df-quickchart {\n",
              "      --bg-color: #E8F0FE;\n",
              "      --fill-color: #1967D2;\n",
              "      --hover-bg-color: #E2EBFA;\n",
              "      --hover-fill-color: #174EA6;\n",
              "      --disabled-fill-color: #AAA;\n",
              "      --disabled-bg-color: #DDD;\n",
              "  }\n",
              "\n",
              "  [theme=dark] .colab-df-quickchart {\n",
              "      --bg-color: #3B4455;\n",
              "      --fill-color: #D2E3FC;\n",
              "      --hover-bg-color: #434B5C;\n",
              "      --hover-fill-color: #FFFFFF;\n",
              "      --disabled-bg-color: #3B4455;\n",
              "      --disabled-fill-color: #666;\n",
              "  }\n",
              "\n",
              "  .colab-df-quickchart {\n",
              "    background-color: var(--bg-color);\n",
              "    border: none;\n",
              "    border-radius: 50%;\n",
              "    cursor: pointer;\n",
              "    display: none;\n",
              "    fill: var(--fill-color);\n",
              "    height: 32px;\n",
              "    padding: 0;\n",
              "    width: 32px;\n",
              "  }\n",
              "\n",
              "  .colab-df-quickchart:hover {\n",
              "    background-color: var(--hover-bg-color);\n",
              "    box-shadow: 0 1px 2px rgba(60, 64, 67, 0.3), 0 1px 3px 1px rgba(60, 64, 67, 0.15);\n",
              "    fill: var(--button-hover-fill-color);\n",
              "  }\n",
              "\n",
              "  .colab-df-quickchart-complete:disabled,\n",
              "  .colab-df-quickchart-complete:disabled:hover {\n",
              "    background-color: var(--disabled-bg-color);\n",
              "    fill: var(--disabled-fill-color);\n",
              "    box-shadow: none;\n",
              "  }\n",
              "\n",
              "  .colab-df-spinner {\n",
              "    border: 2px solid var(--fill-color);\n",
              "    border-color: transparent;\n",
              "    border-bottom-color: var(--fill-color);\n",
              "    animation:\n",
              "      spin 1s steps(1) infinite;\n",
              "  }\n",
              "\n",
              "  @keyframes spin {\n",
              "    0% {\n",
              "      border-color: transparent;\n",
              "      border-bottom-color: var(--fill-color);\n",
              "      border-left-color: var(--fill-color);\n",
              "    }\n",
              "    20% {\n",
              "      border-color: transparent;\n",
              "      border-left-color: var(--fill-color);\n",
              "      border-top-color: var(--fill-color);\n",
              "    }\n",
              "    30% {\n",
              "      border-color: transparent;\n",
              "      border-left-color: var(--fill-color);\n",
              "      border-top-color: var(--fill-color);\n",
              "      border-right-color: var(--fill-color);\n",
              "    }\n",
              "    40% {\n",
              "      border-color: transparent;\n",
              "      border-right-color: var(--fill-color);\n",
              "      border-top-color: var(--fill-color);\n",
              "    }\n",
              "    60% {\n",
              "      border-color: transparent;\n",
              "      border-right-color: var(--fill-color);\n",
              "    }\n",
              "    80% {\n",
              "      border-color: transparent;\n",
              "      border-right-color: var(--fill-color);\n",
              "      border-bottom-color: var(--fill-color);\n",
              "    }\n",
              "    90% {\n",
              "      border-color: transparent;\n",
              "      border-bottom-color: var(--fill-color);\n",
              "    }\n",
              "  }\n",
              "</style>\n",
              "\n",
              "  <script>\n",
              "    async function quickchart(key) {\n",
              "      const quickchartButtonEl =\n",
              "        document.querySelector('#' + key + ' button');\n",
              "      quickchartButtonEl.disabled = true;  // To prevent multiple clicks.\n",
              "      quickchartButtonEl.classList.add('colab-df-spinner');\n",
              "      try {\n",
              "        const charts = await google.colab.kernel.invokeFunction(\n",
              "            'suggestCharts', [key], {});\n",
              "      } catch (error) {\n",
              "        console.error('Error during call to suggestCharts:', error);\n",
              "      }\n",
              "      quickchartButtonEl.classList.remove('colab-df-spinner');\n",
              "      quickchartButtonEl.classList.add('colab-df-quickchart-complete');\n",
              "    }\n",
              "    (() => {\n",
              "      let quickchartButtonEl =\n",
              "        document.querySelector('#df-2c538cb0-4817-4170-9ac3-be440598e7d5 button');\n",
              "      quickchartButtonEl.style.display =\n",
              "        google.colab.kernel.accessAllowed ? 'block' : 'none';\n",
              "    })();\n",
              "  </script>\n",
              "</div>\n",
              "    </div>\n",
              "  </div>\n"
            ]
          },
          "metadata": {},
          "execution_count": 32
        }
      ]
    },
    {
      "cell_type": "code",
      "source": [
        "#avg price\n",
        "whey['Price'].mean()"
      ],
      "metadata": {
        "colab": {
          "base_uri": "https://localhost:8080/"
        },
        "id": "kBS6JazxlyQG",
        "outputId": "c54dbc18-cc00-4aa4-9ea9-60833ba985d6"
      },
      "execution_count": 33,
      "outputs": [
        {
          "output_type": "execute_result",
          "data": {
            "text/plain": [
              "141.9207142857143"
            ]
          },
          "metadata": {},
          "execution_count": 33
        }
      ]
    },
    {
      "cell_type": "code",
      "source": [
        "#avg price per 100g\n",
        "whey['Price/100'].mean()"
      ],
      "metadata": {
        "colab": {
          "base_uri": "https://localhost:8080/"
        },
        "id": "TDCM7fA3mlLL",
        "outputId": "27b90410-0523-49ca-95c1-536e08d75e8f"
      },
      "execution_count": 34,
      "outputs": [
        {
          "output_type": "execute_result",
          "data": {
            "text/plain": [
              "12.527139593856427"
            ]
          },
          "metadata": {},
          "execution_count": 34
        }
      ]
    },
    {
      "cell_type": "markdown",
      "source": [
        "## **2.1 Histogram**"
      ],
      "metadata": {
        "id": "cHn4ntcp0tom"
      }
    },
    {
      "cell_type": "code",
      "source": [
        "#histogram\n",
        "fig, ax = plt.subplots(figsize = (10,8))\n",
        "ax.set_title('Price histogram')\n",
        "ax.hist(whey['Price'])"
      ],
      "metadata": {
        "colab": {
          "base_uri": "https://localhost:8080/",
          "height": 766
        },
        "id": "21CD1U_Q70Q6",
        "outputId": "d4a06663-9aa9-4258-9c91-9db94ab61edf"
      },
      "execution_count": 35,
      "outputs": [
        {
          "output_type": "execute_result",
          "data": {
            "text/plain": [
              "(array([40., 57., 17., 12., 17.,  5.,  3.,  0.,  0.,  3.]),\n",
              " array([  4.99,  67.49, 129.99, 192.49, 254.99, 317.49, 379.99, 442.49,\n",
              "        504.99, 567.49, 629.99]),\n",
              " <BarContainer object of 10 artists>)"
            ]
          },
          "metadata": {},
          "execution_count": 35
        },
        {
          "output_type": "display_data",
          "data": {
            "text/plain": [
              "<Figure size 1000x800 with 1 Axes>"
            ],
            "image/png": "[encoded data removed]"
          },
          "metadata": {}
        }
      ]
    },
    {
      "cell_type": "code",
      "source": [
        "#shapiro - wilk test\n",
        "shapiro_test = stats.shapiro(whey['Price'])\n",
        "shapiro_test.pvalue\n",
        "#p<0,05 - no bell curve"
      ],
      "metadata": {
        "colab": {
          "base_uri": "https://localhost:8080/"
        },
        "id": "RNxmvY8U8BoB",
        "outputId": "906098e4-ebd3-4010-8e89-9472b1e6968c"
      },
      "execution_count": 36,
      "outputs": [
        {
          "output_type": "execute_result",
          "data": {
            "text/plain": [
              "2.3080959886401242e-12"
            ]
          },
          "metadata": {},
          "execution_count": 36
        }
      ]
    },
    {
      "cell_type": "markdown",
      "source": [
        "## **2.2 Removing outliers**"
      ],
      "metadata": {
        "id": "C7n5GrVk0cEZ"
      }
    },
    {
      "cell_type": "code",
      "source": [
        "whey['Price'].quantile(0.90)"
      ],
      "metadata": {
        "colab": {
          "base_uri": "https://localhost:8080/"
        },
        "id": "CibNiGpQyfgq",
        "outputId": "43c8a133-c40c-42dc-d135-126c46867258"
      },
      "execution_count": 37,
      "outputs": [
        {
          "output_type": "execute_result",
          "data": {
            "text/plain": [
              "296.9900000000002"
            ]
          },
          "metadata": {},
          "execution_count": 37
        }
      ]
    },
    {
      "cell_type": "code",
      "source": [
        "whey['Price'].quantile(0.1)"
      ],
      "metadata": {
        "colab": {
          "base_uri": "https://localhost:8080/"
        },
        "id": "y1SqQKNczTPf",
        "outputId": "51943191-bde9-4204-e7ad-eb2c5954186e"
      },
      "execution_count": 38,
      "outputs": [
        {
          "output_type": "execute_result",
          "data": {
            "text/plain": [
              "44.993"
            ]
          },
          "metadata": {},
          "execution_count": 38
        }
      ]
    },
    {
      "cell_type": "code",
      "source": [
        "whey = whey[(whey['Price'] > whey['Price'].quantile(0.10)) & (whey['Price'] < whey['Price'].quantile(0.90))]"
      ],
      "metadata": {
        "id": "3nr1OadVzewN"
      },
      "execution_count": 39,
      "outputs": []
    },
    {
      "cell_type": "code",
      "source": [
        "#dataset length after outliers removing\n",
        "len(whey )"
      ],
      "metadata": {
        "colab": {
          "base_uri": "https://localhost:8080/"
        },
        "id": "jDnzRG4bzyF5",
        "outputId": "fb843c87-2d92-4d9a-b1f9-38cb260d4402"
      },
      "execution_count": 40,
      "outputs": [
        {
          "output_type": "execute_result",
          "data": {
            "text/plain": [
              "122"
            ]
          },
          "metadata": {},
          "execution_count": 40
        }
      ]
    },
    {
      "cell_type": "markdown",
      "source": [
        "#**3.Data Visualisation**"
      ],
      "metadata": {
        "id": "mk26yELNpQEe"
      }
    },
    {
      "cell_type": "code",
      "source": [
        "#bar chart function\n",
        "def bar_chart(ax, x, y, color, title, ylabel):\n",
        "  ax.bar(x, y, color=color, width=0.6)\n",
        "  ax.set_title(title)\n",
        "  ax.set_ylabel(ylabel)\n",
        "\n",
        "#add text function\n",
        "def add_text(chart, x, y, move_y, angle, move_x = 0,):\n",
        "  for i in range(0, len(x)):\n",
        "    x_value = x[i]\n",
        "    if type(x[i]) != str:\n",
        "      x_value = x[i] + move_x\n",
        "    chart.text(x_value, y[i]-move_y, round(y[i], 2), horizontalalignment='center', rotation=angle)"
      ],
      "metadata": {
        "id": "Gq3t2jRq8Gau"
      },
      "execution_count": 41,
      "outputs": []
    },
    {
      "cell_type": "code",
      "source": [
        "types = ['WPC',\t'WPI',\t'Soy',\t'Yeast',\t'Pea',\t'Casein',\t'Cannabis',\t'Beef']"
      ],
      "metadata": {
        "id": "n5zCOlk1tTlS"
      },
      "execution_count": 42,
      "outputs": []
    },
    {
      "cell_type": "code",
      "source": [
        "wpc_price = whey[whey['WPC'] > 0 ]['Price'].mean()\n",
        "wpi_price = whey[whey['WPI'] > 0 ]['Price'].mean()\n",
        "soy_price = whey[whey['Soy'] > 0 ]['Price'].mean()\n",
        "yeast_price = whey[whey['Yeast'] > 0 ]['Price'].mean()\n",
        "pea_price = whey[whey['Pea'] > 0 ]['Price'].mean()\n",
        "casein_price = whey[whey['Casein'] > 0 ]['Price'].mean()\n",
        "cannabis_price = whey[whey['Cannabis'] > 0 ]['Price'].mean()\n",
        "beef_price = whey[whey['Beef'] > 0 ]['Price'].median()\n",
        "type_prices = [wpc_price, wpi_price, soy_price, yeast_price, pea_price, casein_price,cannabis_price, beef_price]"
      ],
      "metadata": {
        "id": "llrKThq2r2JS"
      },
      "execution_count": 43,
      "outputs": []
    },
    {
      "cell_type": "code",
      "source": [
        "wpc_price_100 = whey[whey['WPC'] > 0 ]['Price/100'].mean()\n",
        "wpi_price_100 = whey[whey['WPI'] > 0 ]['Price/100'].mean()\n",
        "soy_price_100 = whey[whey['Soy'] > 0 ]['Price/100'].mean()\n",
        "yeast_price_100 = whey[whey['Yeast'] > 0 ]['Price/100'].mean()\n",
        "pea_price_100 = whey[whey['Pea'] > 0 ]['Price/100'].mean()\n",
        "casein_price_100 = whey[whey['Casein'] > 0 ]['Price/100'].mean()\n",
        "cannabis_price_100 = whey[whey['Cannabis'] > 0 ]['Price/100'].mean()\n",
        "beef_price_100 = whey[whey['Beef'] > 0 ]['Price/100'].median()\n",
        "type_prices_100 = [wpc_price_100, wpi_price_100, soy_price_100, yeast_price_100, pea_price_100, casein_price_100, cannabis_price_100, beef_price_100]"
      ],
      "metadata": {
        "id": "BSJV85mNpB4n"
      },
      "execution_count": 44,
      "outputs": []
    },
    {
      "cell_type": "code",
      "source": [
        "types"
      ],
      "metadata": {
        "colab": {
          "base_uri": "https://localhost:8080/"
        },
        "id": "IweFUnR_rqa4",
        "outputId": "7ea777ff-6b26-4e71-9016-7413130bbd9c"
      },
      "execution_count": 45,
      "outputs": [
        {
          "output_type": "execute_result",
          "data": {
            "text/plain": [
              "['WPC', 'WPI', 'Soy', 'Yeast', 'Pea', 'Casein', 'Cannabis', 'Beef']"
            ]
          },
          "metadata": {},
          "execution_count": 45
        }
      ]
    },
    {
      "cell_type": "code",
      "source": [
        "types_df = pd.DataFrame()"
      ],
      "metadata": {
        "id": "4Co9dNkTcPHz"
      },
      "execution_count": 68,
      "outputs": []
    },
    {
      "cell_type": "code",
      "source": [
        "types_df['Type'] = types\n",
        "types_df['Price'] = type_prices\n",
        "types_df['Price/100'] = type_prices_100"
      ],
      "metadata": {
        "id": "cKXIQW6wcpqG"
      },
      "execution_count": 69,
      "outputs": []
    },
    {
      "cell_type": "code",
      "source": [
        "types_df.sort_values(by='Price')"
      ],
      "metadata": {
        "colab": {
          "base_uri": "https://localhost:8080/",
          "height": 300
        },
        "id": "Gkc8VIybditZ",
        "outputId": "b9afbae3-2fee-475e-e039-5fd4c6228f68"
      },
      "execution_count": 71,
      "outputs": [
        {
          "output_type": "execute_result",
          "data": {
            "text/plain": [
              "       Type       Price  Price/100\n",
              "6  Cannabis   56.000000   8.000000\n",
              "4       Pea  107.490000  17.463181\n",
              "0       WPC  127.372716  11.624009\n",
              "1       WPI  132.570833  13.367885\n",
              "5    Casein  139.293333  12.729992\n",
              "2       Soy  139.323333   9.561032\n",
              "7      Beef  147.950000  13.719444\n",
              "3     Yeast  162.490000  11.056048"
            ],
            "text/html": [
              "\n",
              "  <div id=\"df-99783663-2ace-4ebb-a49b-80b7f55ce374\" class=\"colab-df-container\">\n",
              "    <div>\n",
              "<style scoped>\n",
              "    .dataframe tbody tr th:only-of-type {\n",
              "        vertical-align: middle;\n",
              "    }\n",
              "\n",
              "    .dataframe tbody tr th {\n",
              "        vertical-align: top;\n",
              "    }\n",
              "\n",
              "    .dataframe thead th {\n",
              "        text-align: right;\n",
              "    }\n",
              "</style>\n",
              "<table border=\"1\" class=\"dataframe\">\n",
              "  <thead>\n",
              "    <tr style=\"text-align: right;\">\n",
              "      <th></th>\n",
              "      <th>Type</th>\n",
              "      <th>Price</th>\n",
              "      <th>Price/100</th>\n",
              "    </tr>\n",
              "  </thead>\n",
              "  <tbody>\n",
              "    <tr>\n",
              "      <th>6</th>\n",
              "      <td>Cannabis</td>\n",
              "      <td>56.000000</td>\n",
              "      <td>8.000000</td>\n",
              "    </tr>\n",
              "    <tr>\n",
              "      <th>4</th>\n",
              "      <td>Pea</td>\n",
              "      <td>107.490000</td>\n",
              "      <td>17.463181</td>\n",
              "    </tr>\n",
              "    <tr>\n",
              "      <th>0</th>\n",
              "      <td>WPC</td>\n",
              "      <td>127.372716</td>\n",
              "      <td>11.624009</td>\n",
              "    </tr>\n",
              "    <tr>\n",
              "      <th>1</th>\n",
              "      <td>WPI</td>\n",
              "      <td>132.570833</td>\n",
              "      <td>13.367885</td>\n",
              "    </tr>\n",
              "    <tr>\n",
              "      <th>5</th>\n",
              "      <td>Casein</td>\n",
              "      <td>139.293333</td>\n",
              "      <td>12.729992</td>\n",
              "    </tr>\n",
              "    <tr>\n",
              "      <th>2</th>\n",
              "      <td>Soy</td>\n",
              "      <td>139.323333</td>\n",
              "      <td>9.561032</td>\n",
              "    </tr>\n",
              "    <tr>\n",
              "      <th>7</th>\n",
              "      <td>Beef</td>\n",
              "      <td>147.950000</td>\n",
              "      <td>13.719444</td>\n",
              "    </tr>\n",
              "    <tr>\n",
              "      <th>3</th>\n",
              "      <td>Yeast</td>\n",
              "      <td>162.490000</td>\n",
              "      <td>11.056048</td>\n",
              "    </tr>\n",
              "  </tbody>\n",
              "</table>\n",
              "</div>\n",
              "    <div class=\"colab-df-buttons\">\n",
              "\n",
              "  <div class=\"colab-df-container\">\n",
              "    <button class=\"colab-df-convert\" onclick=\"convertToInteractive('df-99783663-2ace-4ebb-a49b-80b7f55ce374')\"\n",
              "            title=\"Convert this dataframe to an interactive table.\"\n",
              "            style=\"display:none;\">\n",
              "\n",
              "  <svg xmlns=\"http://www.w3.org/2000/svg\" height=\"24px\" viewBox=\"0 -960 960 960\">\n",
              "    <path d=\"M120-120v-720h720v720H120Zm60-500h600v-160H180v160Zm220 220h160v-160H400v160Zm0 220h160v-160H400v160ZM180-400h160v-160H180v160Zm440 0h160v-160H620v160ZM180-180h160v-160H180v160Zm440 0h160v-160H620v160Z\"/>\n",
              "  </svg>\n",
              "    </button>\n",
              "\n",
              "  <style>\n",
              "    .colab-df-container {\n",
              "      display:flex;\n",
              "      gap: 12px;\n",
              "    }\n",
              "\n",
              "    .colab-df-convert {\n",
              "      background-color: #E8F0FE;\n",
              "      border: none;\n",
              "      border-radius: 50%;\n",
              "      cursor: pointer;\n",
              "      display: none;\n",
              "      fill: #1967D2;\n",
              "      height: 32px;\n",
              "      padding: 0 0 0 0;\n",
              "      width: 32px;\n",
              "    }\n",
              "\n",
              "    .colab-df-convert:hover {\n",
              "      background-color: #E2EBFA;\n",
              "      box-shadow: 0px 1px 2px rgba(60, 64, 67, 0.3), 0px 1px 3px 1px rgba(60, 64, 67, 0.15);\n",
              "      fill: #174EA6;\n",
              "    }\n",
              "\n",
              "    .colab-df-buttons div {\n",
              "      margin-bottom: 4px;\n",
              "    }\n",
              "\n",
              "    [theme=dark] .colab-df-convert {\n",
              "      background-color: #3B4455;\n",
              "      fill: #D2E3FC;\n",
              "    }\n",
              "\n",
              "    [theme=dark] .colab-df-convert:hover {\n",
              "      background-color: #434B5C;\n",
              "      box-shadow: 0px 1px 3px 1px rgba(0, 0, 0, 0.15);\n",
              "      filter: drop-shadow(0px 1px 2px rgba(0, 0, 0, 0.3));\n",
              "      fill: #FFFFFF;\n",
              "    }\n",
              "  </style>\n",
              "\n",
              "    <script>\n",
              "      const buttonEl =\n",
              "        document.querySelector('#df-99783663-2ace-4ebb-a49b-80b7f55ce374 button.colab-df-convert');\n",
              "      buttonEl.style.display =\n",
              "        google.colab.kernel.accessAllowed ? 'block' : 'none';\n",
              "\n",
              "      async function convertToInteractive(key) {\n",
              "        const element = document.querySelector('#df-99783663-2ace-4ebb-a49b-80b7f55ce374');\n",
              "        const dataTable =\n",
              "          await google.colab.kernel.invokeFunction('convertToInteractive',\n",
              "                                                    [key], {});\n",
              "        if (!dataTable) return;\n",
              "\n",
              "        const docLinkHtml = 'Like what you see? Visit the ' +\n",
              "          '<a target=\"_blank\" href=https://colab.research.google.com/notebooks/data_table.ipynb>data table notebook</a>'\n",
              "          + ' to learn more about interactive tables.';\n",
              "        element.innerHTML = '';\n",
              "        dataTable['output_type'] = 'display_data';\n",
              "        await google.colab.output.renderOutput(dataTable, element);\n",
              "        const docLink = document.createElement('div');\n",
              "        docLink.innerHTML = docLinkHtml;\n",
              "        element.appendChild(docLink);\n",
              "      }\n",
              "    </script>\n",
              "  </div>\n",
              "\n",
              "\n",
              "<div id=\"df-cc5816ca-08dc-4d34-a511-b64d3a4ffdee\">\n",
              "  <button class=\"colab-df-quickchart\" onclick=\"quickchart('df-cc5816ca-08dc-4d34-a511-b64d3a4ffdee')\"\n",
              "            title=\"Suggest charts.\"\n",
              "            style=\"display:none;\">\n",
              "\n",
              "<svg xmlns=\"http://www.w3.org/2000/svg\" height=\"24px\"viewBox=\"0 0 24 24\"\n",
              "     width=\"24px\">\n",
              "    <g>\n",
              "        <path d=\"M19 3H5c-1.1 0-2 .9-2 2v14c0 1.1.9 2 2 2h14c1.1 0 2-.9 2-2V5c0-1.1-.9-2-2-2zM9 17H7v-7h2v7zm4 0h-2V7h2v10zm4 0h-2v-4h2v4z\"/>\n",
              "    </g>\n",
              "</svg>\n",
              "  </button>\n",
              "\n",
              "<style>\n",
              "  .colab-df-quickchart {\n",
              "      --bg-color: #E8F0FE;\n",
              "      --fill-color: #1967D2;\n",
              "      --hover-bg-color: #E2EBFA;\n",
              "      --hover-fill-color: #174EA6;\n",
              "      --disabled-fill-color: #AAA;\n",
              "      --disabled-bg-color: #DDD;\n",
              "  }\n",
              "\n",
              "  [theme=dark] .colab-df-quickchart {\n",
              "      --bg-color: #3B4455;\n",
              "      --fill-color: #D2E3FC;\n",
              "      --hover-bg-color: #434B5C;\n",
              "      --hover-fill-color: #FFFFFF;\n",
              "      --disabled-bg-color: #3B4455;\n",
              "      --disabled-fill-color: #666;\n",
              "  }\n",
              "\n",
              "  .colab-df-quickchart {\n",
              "    background-color: var(--bg-color);\n",
              "    border: none;\n",
              "    border-radius: 50%;\n",
              "    cursor: pointer;\n",
              "    display: none;\n",
              "    fill: var(--fill-color);\n",
              "    height: 32px;\n",
              "    padding: 0;\n",
              "    width: 32px;\n",
              "  }\n",
              "\n",
              "  .colab-df-quickchart:hover {\n",
              "    background-color: var(--hover-bg-color);\n",
              "    box-shadow: 0 1px 2px rgba(60, 64, 67, 0.3), 0 1px 3px 1px rgba(60, 64, 67, 0.15);\n",
              "    fill: var(--button-hover-fill-color);\n",
              "  }\n",
              "\n",
              "  .colab-df-quickchart-complete:disabled,\n",
              "  .colab-df-quickchart-complete:disabled:hover {\n",
              "    background-color: var(--disabled-bg-color);\n",
              "    fill: var(--disabled-fill-color);\n",
              "    box-shadow: none;\n",
              "  }\n",
              "\n",
              "  .colab-df-spinner {\n",
              "    border: 2px solid var(--fill-color);\n",
              "    border-color: transparent;\n",
              "    border-bottom-color: var(--fill-color);\n",
              "    animation:\n",
              "      spin 1s steps(1) infinite;\n",
              "  }\n",
              "\n",
              "  @keyframes spin {\n",
              "    0% {\n",
              "      border-color: transparent;\n",
              "      border-bottom-color: var(--fill-color);\n",
              "      border-left-color: var(--fill-color);\n",
              "    }\n",
              "    20% {\n",
              "      border-color: transparent;\n",
              "      border-left-color: var(--fill-color);\n",
              "      border-top-color: var(--fill-color);\n",
              "    }\n",
              "    30% {\n",
              "      border-color: transparent;\n",
              "      border-left-color: var(--fill-color);\n",
              "      border-top-color: var(--fill-color);\n",
              "      border-right-color: var(--fill-color);\n",
              "    }\n",
              "    40% {\n",
              "      border-color: transparent;\n",
              "      border-right-color: var(--fill-color);\n",
              "      border-top-color: var(--fill-color);\n",
              "    }\n",
              "    60% {\n",
              "      border-color: transparent;\n",
              "      border-right-color: var(--fill-color);\n",
              "    }\n",
              "    80% {\n",
              "      border-color: transparent;\n",
              "      border-right-color: var(--fill-color);\n",
              "      border-bottom-color: var(--fill-color);\n",
              "    }\n",
              "    90% {\n",
              "      border-color: transparent;\n",
              "      border-bottom-color: var(--fill-color);\n",
              "    }\n",
              "  }\n",
              "</style>\n",
              "\n",
              "  <script>\n",
              "    async function quickchart(key) {\n",
              "      const quickchartButtonEl =\n",
              "        document.querySelector('#' + key + ' button');\n",
              "      quickchartButtonEl.disabled = true;  // To prevent multiple clicks.\n",
              "      quickchartButtonEl.classList.add('colab-df-spinner');\n",
              "      try {\n",
              "        const charts = await google.colab.kernel.invokeFunction(\n",
              "            'suggestCharts', [key], {});\n",
              "      } catch (error) {\n",
              "        console.error('Error during call to suggestCharts:', error);\n",
              "      }\n",
              "      quickchartButtonEl.classList.remove('colab-df-spinner');\n",
              "      quickchartButtonEl.classList.add('colab-df-quickchart-complete');\n",
              "    }\n",
              "    (() => {\n",
              "      let quickchartButtonEl =\n",
              "        document.querySelector('#df-cc5816ca-08dc-4d34-a511-b64d3a4ffdee button');\n",
              "      quickchartButtonEl.style.display =\n",
              "        google.colab.kernel.accessAllowed ? 'block' : 'none';\n",
              "    })();\n",
              "  </script>\n",
              "</div>\n",
              "    </div>\n",
              "  </div>\n"
            ]
          },
          "metadata": {},
          "execution_count": 71
        }
      ]
    },
    {
      "cell_type": "code",
      "source": [
        "#products amount depending on company in dataset\n",
        "plt.style.use('seaborn-dark')\n",
        "fig, ax = plt.subplots(figsize = (8,6))\n",
        "bar_chart(ax, whey['Company'].value_counts().index, whey['Company'].value_counts().values, 'chocolate', 'Products amount depending on company', 'Amount' )\n",
        "add_text(ax, whey['Company'].value_counts().index, whey['Company'].value_counts().values, -0.5, 0)"
      ],
      "metadata": {
        "colab": {
          "base_uri": "https://localhost:8080/",
          "height": 595
        },
        "id": "Bizw_JVJCzZ9",
        "outputId": "11e8d936-50a1-4ab1-8493-c1ce13ede919"
      },
      "execution_count": 46,
      "outputs": [
        {
          "output_type": "stream",
          "name": "stderr",
          "text": [
            "<ipython-input-46-619ad22b3300>:2: MatplotlibDeprecationWarning: The seaborn styles shipped by Matplotlib are deprecated since 3.6, as they no longer correspond to the styles shipped by seaborn. However, they will remain available as 'seaborn-v0_8-<style>'. Alternatively, directly use the seaborn API instead.\n",
            "  plt.style.use('seaborn-dark')\n"
          ]
        },
        {
          "output_type": "display_data",
          "data": {
            "text/plain": [
              "<Figure size 800x600 with 1 Axes>"
            ],
            "image/png": "[encoded data removed]"
          },
          "metadata": {}
        }
      ]
    },
    {
      "cell_type": "code",
      "source": [
        "#packages categories\n",
        "whey['Package_category'] = pd.cut(whey['Package'], bins = [0, 999, 1999, 5000], labels = ['>1000g', '1000g - 2000g', '>2000g'] )"
      ],
      "metadata": {
        "id": "Hs9WEZ_7EUa_"
      },
      "execution_count": 47,
      "outputs": []
    },
    {
      "cell_type": "code",
      "source": [
        "whey['Package_type'][33] = 'bag'"
      ],
      "metadata": {
        "colab": {
          "base_uri": "https://localhost:8080/"
        },
        "id": "ZGojisYjCWl1",
        "outputId": "0074ae03-caf5-45aa-fc1e-963ff32107bd"
      },
      "execution_count": 48,
      "outputs": [
        {
          "output_type": "stream",
          "name": "stderr",
          "text": [
            "<ipython-input-48-53b2c8795266>:1: SettingWithCopyWarning: \n",
            "A value is trying to be set on a copy of a slice from a DataFrame\n",
            "\n",
            "See the caveats in the documentation: https://pandas.pydata.org/pandas-docs/stable/user_guide/indexing.html#returning-a-view-versus-a-copy\n",
            "  whey['Package_type'][33] = 'bag'\n"
          ]
        }
      ]
    },
    {
      "cell_type": "code",
      "source": [
        "fig, ax = plt.subplots(2,2, figsize = (20,15))\n",
        "\n",
        "bar_chart(ax[0,0], whey.groupby('Company')['Price'].mean().sort_values().index, whey.groupby('Company')['Price'].mean().sort_values().values, '#85A1F2', 'Average price depending on company', 'Price [PLN]')\n",
        "bar_chart(ax[0,1], whey.groupby('Package_type')['Price'].mean().index, whey.groupby('Package_type')['Price'].mean().values, '#8BC6FC', 'Average depending on package type', 'Price [PLN]')\n",
        "bar_chart(ax[1,0], whey.groupby('Package_category')['Price'].mean().index, whey.groupby('Package_category')['Price'].mean().values, '#6493FA', 'Average price depending on package size', 'Price [PLN]')\n",
        "bar_chart(ax[1,1], types_df.sort_values(by='Price')['Type'],types_df.sort_values(by='Price')['Price'],'#8BD3E6', 'Average depending on protein source type', 'Price [PLN]')\n",
        "\n",
        "add_text(ax[0,0], whey.groupby('Company')['Price'].mean().index, whey.groupby('Company')['Price'].mean().values, 10, 0)\n",
        "add_text(ax[0,1], whey.groupby('Package_type')['Price'].mean().index, whey.groupby('Package_type')['Price'].mean().values, 10, 0)\n",
        "add_text(ax[1,0], whey.groupby('Package_category')['Price'].mean().index, whey.groupby('Package_category')['Price'].mean().values, 10, 0)\n",
        "add_text(ax[1,1],  types_df.sort_values(by='Price')['Type'],types_df.sort_values(by='Price')['Price'], 10, 0)"
      ],
      "metadata": {
        "colab": {
          "base_uri": "https://localhost:8080/",
          "height": 1000
        },
        "id": "K3P0USp4l2ES",
        "outputId": "7df5e8f5-3ef0-4a11-c4ed-12bef042e739"
      },
      "execution_count": 73,
      "outputs": [
        {
          "output_type": "display_data",
          "data": {
            "text/plain": [
              "<Figure size 2000x1500 with 4 Axes>"
            ],
            "image/png": "[encoded data removed]"
          },
          "metadata": {}
        }
      ]
    },
    {
      "cell_type": "code",
      "source": [
        "fig, ax = plt.subplots(2,2, figsize = (20,15))\n",
        "\n",
        "\n",
        "bar_chart(ax[0,0], whey.groupby('Company')['Price/100'].mean().sort_values().index, whey.groupby('Company')['Price/100'].mean().sort_values().values, '#AAF0C1', 'Average price per 100g depending on company', 'Price [PLN]')\n",
        "bar_chart(ax[0,1], whey.groupby('Package_type')['Price/100'].mean().index, whey.groupby('Package_type')['Price/100'].mean().values, '#8FC9A3', 'Average price per 100g depending on package type', 'Price [PLN]')\n",
        "bar_chart(ax[1,0], whey.groupby('Package_category')['Price/100'].mean().index, whey.groupby('Package_category')['Price/100'].mean().values, '#5FE88D', 'Average price per 100g depending on package size', 'Price [PLN]')\n",
        "bar_chart(ax[1,1], types_df.sort_values(by='Price/100')['Type'],types_df.sort_values(by='Price/100')['Price/100'], '#B3E820', 'Average price per 100g depending on protein source type', 'Price [PLN]')\n",
        "\n",
        "add_text(ax[0,0], whey.groupby('Company')['Price/100'].mean().index, whey.groupby('Company')['Price/100'].mean().values, 0.5, 0)\n",
        "add_text(ax[0,1], whey.groupby('Package_type')['Price/100'].mean().index, whey.groupby('Package_type')['Price/100'].mean().values, 0.5, 0)\n",
        "add_text(ax[1,0], whey.groupby('Package_category')['Price/100'].mean().index, whey.groupby('Package_category')['Price/100'].mean().values, 0.5, 0)\n",
        "add_text(ax[1,1], types_df.sort_values(by='Price/100')['Type'],types_df.sort_values(by='Price/100')['Price/100'], 0.8, 0)"
      ],
      "metadata": {
        "colab": {
          "base_uri": "https://localhost:8080/",
          "height": 1000
        },
        "id": "HvtcmNo08pR3",
        "outputId": "ea441931-8c82-4f27-eda7-4131dd165469"
      },
      "execution_count": 75,
      "outputs": [
        {
          "output_type": "display_data",
          "data": {
            "text/plain": [
              "<Figure size 2000x1500 with 4 Axes>"
            ],
            "image/png": "[encoded data removed]"
          },
          "metadata": {}
        }
      ]
    }
  ]
}